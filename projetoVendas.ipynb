{
 "cells": [
  {
   "cell_type": "markdown",
   "id": "415e4841-5379-42b1-b1a8-d0d5f32a238b",
   "metadata": {},
   "source": [
    "<h1>Importando Bibliotecas</h1>"
   ]
  },
  {
   "cell_type": "code",
   "execution_count": 149,
   "id": "83ec363a-e69d-4126-b98c-7f5ecec6dda4",
   "metadata": {},
   "outputs": [],
   "source": [
    "import pandas as pd #Trata os df\n",
    "from dotenv import load_dotenv #Carrega chave API\n",
    "import os #Acessa diretórios \n",
    "\n",
    "from llama_index.core import Settings #Configurações do modelo\n",
    "from llama_index.llms.groq import Groq #Modelo\n",
    "\n",
    "from llama_index.experimental.query_engine import PandasQueryEngine #Vai nos devolver a consulta em fortado de formulas usando pandas\n",
    "\n",
    "import textwrap #Formata texto\n",
    "\n",
    "from llama_index.core import PromptTemplate #Template\n",
    "from llama_index.experimental.query_engine.pandas import PandasInstructionParser #Separa as instruções\n",
    "\n",
    "from llama_index.core.query_pipeline import (QueryPipeline as QP, Link, InputComponent)#Pipeline\n",
    "\n",
    "import gradio as gr #Para criação da aplicação\n",
    "\n",
    "from fpdf import FPDF #Para geração de PDF's\n",
    "\n",
    "from datetime import datetime #Gerar nome dos relatórios relativo a sua data de criação"
   ]
  },
  {
   "cell_type": "markdown",
   "id": "442c7b01-8450-4473-85ca-2fb21e550174",
   "metadata": {},
   "source": [
    "<h1>Carregando dados</h1>"
   ]
  },
  {
   "cell_type": "code",
   "execution_count": 5,
   "id": "7d2e8d99-2e17-4ff1-b186-f3ef58b16c0d",
   "metadata": {},
   "outputs": [
    {
     "data": {
      "text/html": [
       "<div>\n",
       "<style scoped>\n",
       "    .dataframe tbody tr th:only-of-type {\n",
       "        vertical-align: middle;\n",
       "    }\n",
       "\n",
       "    .dataframe tbody tr th {\n",
       "        vertical-align: top;\n",
       "    }\n",
       "\n",
       "    .dataframe thead th {\n",
       "        text-align: right;\n",
       "    }\n",
       "</style>\n",
       "<table border=\"1\" class=\"dataframe\">\n",
       "  <thead>\n",
       "    <tr style=\"text-align: right;\">\n",
       "      <th></th>\n",
       "      <th>ID_compra</th>\n",
       "      <th>filial</th>\n",
       "      <th>cidade</th>\n",
       "      <th>tipo_cliente</th>\n",
       "      <th>genero</th>\n",
       "      <th>tipo_produto</th>\n",
       "      <th>preco_unitario</th>\n",
       "      <th>quantidade</th>\n",
       "      <th>imposto_5%</th>\n",
       "      <th>total</th>\n",
       "      <th>data</th>\n",
       "      <th>hora</th>\n",
       "      <th>forma_pagamento</th>\n",
       "      <th>avaliacao</th>\n",
       "    </tr>\n",
       "  </thead>\n",
       "  <tbody>\n",
       "    <tr>\n",
       "      <th>0</th>\n",
       "      <td>750-67-8428</td>\n",
       "      <td>A</td>\n",
       "      <td>Santo André</td>\n",
       "      <td>Membro</td>\n",
       "      <td>Feminino</td>\n",
       "      <td>Saúde e Beleza</td>\n",
       "      <td>74.69</td>\n",
       "      <td>7</td>\n",
       "      <td>26.1415</td>\n",
       "      <td>548.9715</td>\n",
       "      <td>2024-01-05</td>\n",
       "      <td>13:08:00</td>\n",
       "      <td>Carteira Digital</td>\n",
       "      <td>9.1</td>\n",
       "    </tr>\n",
       "    <tr>\n",
       "      <th>1</th>\n",
       "      <td>226-31-3081</td>\n",
       "      <td>C</td>\n",
       "      <td>São Caetano</td>\n",
       "      <td>Normal</td>\n",
       "      <td>Feminino</td>\n",
       "      <td>Eletrônicos</td>\n",
       "      <td>15.28</td>\n",
       "      <td>5</td>\n",
       "      <td>3.8200</td>\n",
       "      <td>80.2200</td>\n",
       "      <td>2024-03-08</td>\n",
       "      <td>10:29:00</td>\n",
       "      <td>Dinheiro</td>\n",
       "      <td>9.6</td>\n",
       "    </tr>\n",
       "    <tr>\n",
       "      <th>2</th>\n",
       "      <td>631-41-3108</td>\n",
       "      <td>A</td>\n",
       "      <td>Santo André</td>\n",
       "      <td>Normal</td>\n",
       "      <td>Masculino</td>\n",
       "      <td>Casa</td>\n",
       "      <td>46.33</td>\n",
       "      <td>7</td>\n",
       "      <td>16.2155</td>\n",
       "      <td>340.5255</td>\n",
       "      <td>2024-03-03</td>\n",
       "      <td>13:23:00</td>\n",
       "      <td>Cartão de Crédito</td>\n",
       "      <td>7.4</td>\n",
       "    </tr>\n",
       "    <tr>\n",
       "      <th>3</th>\n",
       "      <td>123-19-1176</td>\n",
       "      <td>A</td>\n",
       "      <td>Santo André</td>\n",
       "      <td>Membro</td>\n",
       "      <td>Masculino</td>\n",
       "      <td>Saúde e Beleza</td>\n",
       "      <td>58.22</td>\n",
       "      <td>8</td>\n",
       "      <td>23.2880</td>\n",
       "      <td>489.0480</td>\n",
       "      <td>2024-01-27</td>\n",
       "      <td>20:33:00</td>\n",
       "      <td>Carteira Digital</td>\n",
       "      <td>8.4</td>\n",
       "    </tr>\n",
       "    <tr>\n",
       "      <th>4</th>\n",
       "      <td>373-73-7910</td>\n",
       "      <td>A</td>\n",
       "      <td>Santo André</td>\n",
       "      <td>Normal</td>\n",
       "      <td>Masculino</td>\n",
       "      <td>Esportes e Viagem</td>\n",
       "      <td>86.31</td>\n",
       "      <td>7</td>\n",
       "      <td>30.2085</td>\n",
       "      <td>634.3785</td>\n",
       "      <td>2024-02-08</td>\n",
       "      <td>10:37:00</td>\n",
       "      <td>Carteira Digital</td>\n",
       "      <td>5.3</td>\n",
       "    </tr>\n",
       "    <tr>\n",
       "      <th>5</th>\n",
       "      <td>699-14-3026</td>\n",
       "      <td>C</td>\n",
       "      <td>São Caetano</td>\n",
       "      <td>Normal</td>\n",
       "      <td>Masculino</td>\n",
       "      <td>Eletrônicos</td>\n",
       "      <td>85.39</td>\n",
       "      <td>7</td>\n",
       "      <td>29.8865</td>\n",
       "      <td>627.6165</td>\n",
       "      <td>2024-03-25</td>\n",
       "      <td>18:30:00</td>\n",
       "      <td>Carteira Digital</td>\n",
       "      <td>4.1</td>\n",
       "    </tr>\n",
       "    <tr>\n",
       "      <th>6</th>\n",
       "      <td>355-53-5943</td>\n",
       "      <td>A</td>\n",
       "      <td>Santo André</td>\n",
       "      <td>Membro</td>\n",
       "      <td>Feminino</td>\n",
       "      <td>Eletrônicos</td>\n",
       "      <td>68.84</td>\n",
       "      <td>6</td>\n",
       "      <td>20.6520</td>\n",
       "      <td>433.6920</td>\n",
       "      <td>2024-02-25</td>\n",
       "      <td>14:36:00</td>\n",
       "      <td>Carteira Digital</td>\n",
       "      <td>5.8</td>\n",
       "    </tr>\n",
       "    <tr>\n",
       "      <th>7</th>\n",
       "      <td>315-22-5665</td>\n",
       "      <td>C</td>\n",
       "      <td>São Caetano</td>\n",
       "      <td>Normal</td>\n",
       "      <td>Feminino</td>\n",
       "      <td>Casa</td>\n",
       "      <td>73.56</td>\n",
       "      <td>10</td>\n",
       "      <td>36.7800</td>\n",
       "      <td>772.3800</td>\n",
       "      <td>2024-02-24</td>\n",
       "      <td>11:38:00</td>\n",
       "      <td>Carteira Digital</td>\n",
       "      <td>8.0</td>\n",
       "    </tr>\n",
       "    <tr>\n",
       "      <th>8</th>\n",
       "      <td>665-32-9167</td>\n",
       "      <td>A</td>\n",
       "      <td>Santo André</td>\n",
       "      <td>Membro</td>\n",
       "      <td>Feminino</td>\n",
       "      <td>Saúde e Beleza</td>\n",
       "      <td>36.26</td>\n",
       "      <td>2</td>\n",
       "      <td>3.6260</td>\n",
       "      <td>76.1460</td>\n",
       "      <td>2024-01-10</td>\n",
       "      <td>17:15:00</td>\n",
       "      <td>Cartão de Crédito</td>\n",
       "      <td>7.2</td>\n",
       "    </tr>\n",
       "    <tr>\n",
       "      <th>9</th>\n",
       "      <td>692-92-5582</td>\n",
       "      <td>B</td>\n",
       "      <td>São Bernardo do Campo</td>\n",
       "      <td>Membro</td>\n",
       "      <td>Feminino</td>\n",
       "      <td>Alimentos e Bebidas</td>\n",
       "      <td>54.84</td>\n",
       "      <td>3</td>\n",
       "      <td>8.2260</td>\n",
       "      <td>172.7460</td>\n",
       "      <td>2024-02-20</td>\n",
       "      <td>13:27:00</td>\n",
       "      <td>Cartão de Crédito</td>\n",
       "      <td>5.9</td>\n",
       "    </tr>\n",
       "  </tbody>\n",
       "</table>\n",
       "</div>"
      ],
      "text/plain": [
       "     ID_compra filial                 cidade tipo_cliente     genero  \\\n",
       "0  750-67-8428      A            Santo André       Membro   Feminino   \n",
       "1  226-31-3081      C            São Caetano       Normal   Feminino   \n",
       "2  631-41-3108      A            Santo André       Normal  Masculino   \n",
       "3  123-19-1176      A            Santo André       Membro  Masculino   \n",
       "4  373-73-7910      A            Santo André       Normal  Masculino   \n",
       "5  699-14-3026      C            São Caetano       Normal  Masculino   \n",
       "6  355-53-5943      A            Santo André       Membro   Feminino   \n",
       "7  315-22-5665      C            São Caetano       Normal   Feminino   \n",
       "8  665-32-9167      A            Santo André       Membro   Feminino   \n",
       "9  692-92-5582      B  São Bernardo do Campo       Membro   Feminino   \n",
       "\n",
       "          tipo_produto  preco_unitario  quantidade  imposto_5%     total  \\\n",
       "0       Saúde e Beleza           74.69           7     26.1415  548.9715   \n",
       "1          Eletrônicos           15.28           5      3.8200   80.2200   \n",
       "2                 Casa           46.33           7     16.2155  340.5255   \n",
       "3       Saúde e Beleza           58.22           8     23.2880  489.0480   \n",
       "4    Esportes e Viagem           86.31           7     30.2085  634.3785   \n",
       "5          Eletrônicos           85.39           7     29.8865  627.6165   \n",
       "6          Eletrônicos           68.84           6     20.6520  433.6920   \n",
       "7                 Casa           73.56          10     36.7800  772.3800   \n",
       "8       Saúde e Beleza           36.26           2      3.6260   76.1460   \n",
       "9  Alimentos e Bebidas           54.84           3      8.2260  172.7460   \n",
       "\n",
       "         data      hora    forma_pagamento  avaliacao  \n",
       "0  2024-01-05  13:08:00   Carteira Digital        9.1  \n",
       "1  2024-03-08  10:29:00           Dinheiro        9.6  \n",
       "2  2024-03-03  13:23:00  Cartão de Crédito        7.4  \n",
       "3  2024-01-27  20:33:00   Carteira Digital        8.4  \n",
       "4  2024-02-08  10:37:00   Carteira Digital        5.3  \n",
       "5  2024-03-25  18:30:00   Carteira Digital        4.1  \n",
       "6  2024-02-25  14:36:00   Carteira Digital        5.8  \n",
       "7  2024-02-24  11:38:00   Carteira Digital        8.0  \n",
       "8  2024-01-10  17:15:00  Cartão de Crédito        7.2  \n",
       "9  2024-02-20  13:27:00  Cartão de Crédito        5.9  "
      ]
     },
     "execution_count": 5,
     "metadata": {},
     "output_type": "execute_result"
    }
   ],
   "source": [
    "df = pd.read_csv('./vendas.csv')\n",
    "df.head(10)"
   ]
  },
  {
   "cell_type": "markdown",
   "id": "4ec2280b-056b-442d-9c18-8b5126761ec2",
   "metadata": {},
   "source": [
    "<h1>Analisando os dados</h1>"
   ]
  },
  {
   "cell_type": "code",
   "execution_count": 7,
   "id": "40180771-7169-45c3-ae43-49e926b90a16",
   "metadata": {},
   "outputs": [
    {
     "name": "stdout",
     "output_type": "stream",
     "text": [
      "<class 'pandas.core.frame.DataFrame'>\n",
      "RangeIndex: 1000 entries, 0 to 999\n",
      "Data columns (total 14 columns):\n",
      " #   Column           Non-Null Count  Dtype  \n",
      "---  ------           --------------  -----  \n",
      " 0   ID_compra        1000 non-null   object \n",
      " 1   filial           1000 non-null   object \n",
      " 2   cidade           1000 non-null   object \n",
      " 3   tipo_cliente     1000 non-null   object \n",
      " 4   genero           1000 non-null   object \n",
      " 5   tipo_produto     1000 non-null   object \n",
      " 6   preco_unitario   1000 non-null   float64\n",
      " 7   quantidade       1000 non-null   int64  \n",
      " 8   imposto_5%       1000 non-null   float64\n",
      " 9   total            1000 non-null   float64\n",
      " 10  data             1000 non-null   object \n",
      " 11  hora             1000 non-null   object \n",
      " 12  forma_pagamento  1000 non-null   object \n",
      " 13  avaliacao        1000 non-null   float64\n",
      "dtypes: float64(4), int64(1), object(9)\n",
      "memory usage: 109.5+ KB\n"
     ]
    }
   ],
   "source": [
    "df.info()"
   ]
  },
  {
   "cell_type": "markdown",
   "id": "40c52df4-7a62-4bfd-b267-9fb3db5529f6",
   "metadata": {},
   "source": [
    "<h4>Observações:</h4>\n",
    "<ul><h6>É preciso realizar algumas transformações dos tipos de df das colunas <u>data e hora</u></h6></ul>"
   ]
  },
  {
   "cell_type": "markdown",
   "id": "54f28031-7bc1-4a55-a570-1ebe569c2410",
   "metadata": {},
   "source": [
    "<h1>Alterando tipo de dados</h1>"
   ]
  },
  {
   "cell_type": "markdown",
   "id": "4f2b30da-6725-4df6-90b3-daa87bad52ca",
   "metadata": {},
   "source": [
    "<h4>Transformando coluna de data para o tipo datetime</h4>"
   ]
  },
  {
   "cell_type": "code",
   "execution_count": 11,
   "id": "3651adb8-e2b9-4a88-ac01-c33f95d6b22e",
   "metadata": {},
   "outputs": [
    {
     "name": "stdout",
     "output_type": "stream",
     "text": [
      "<class 'pandas.core.frame.DataFrame'>\n",
      "RangeIndex: 1000 entries, 0 to 999\n",
      "Data columns (total 14 columns):\n",
      " #   Column           Non-Null Count  Dtype         \n",
      "---  ------           --------------  -----         \n",
      " 0   ID_compra        1000 non-null   object        \n",
      " 1   filial           1000 non-null   object        \n",
      " 2   cidade           1000 non-null   object        \n",
      " 3   tipo_cliente     1000 non-null   object        \n",
      " 4   genero           1000 non-null   object        \n",
      " 5   tipo_produto     1000 non-null   object        \n",
      " 6   preco_unitario   1000 non-null   float64       \n",
      " 7   quantidade       1000 non-null   int64         \n",
      " 8   imposto_5%       1000 non-null   float64       \n",
      " 9   total            1000 non-null   float64       \n",
      " 10  data             1000 non-null   datetime64[ns]\n",
      " 11  hora             1000 non-null   object        \n",
      " 12  forma_pagamento  1000 non-null   object        \n",
      " 13  avaliacao        1000 non-null   float64       \n",
      "dtypes: datetime64[ns](1), float64(4), int64(1), object(8)\n",
      "memory usage: 109.5+ KB\n"
     ]
    }
   ],
   "source": [
    "df['data'] = pd.to_datetime(df['data'], format='%Y-%m-%d')\n",
    "df.info()"
   ]
  },
  {
   "cell_type": "markdown",
   "id": "458bc39b-a347-4ebf-8ab0-ff6de19fe618",
   "metadata": {},
   "source": [
    "<h4>Transformando hora para o tipo time</h4>"
   ]
  },
  {
   "cell_type": "code",
   "execution_count": 13,
   "id": "ec116abd-41dd-49ba-a5cd-888f31153fe5",
   "metadata": {},
   "outputs": [
    {
     "name": "stdout",
     "output_type": "stream",
     "text": [
      "<class 'pandas.core.frame.DataFrame'>\n",
      "RangeIndex: 1000 entries, 0 to 999\n",
      "Data columns (total 14 columns):\n",
      " #   Column           Non-Null Count  Dtype         \n",
      "---  ------           --------------  -----         \n",
      " 0   ID_compra        1000 non-null   object        \n",
      " 1   filial           1000 non-null   object        \n",
      " 2   cidade           1000 non-null   object        \n",
      " 3   tipo_cliente     1000 non-null   object        \n",
      " 4   genero           1000 non-null   object        \n",
      " 5   tipo_produto     1000 non-null   object        \n",
      " 6   preco_unitario   1000 non-null   float64       \n",
      " 7   quantidade       1000 non-null   int64         \n",
      " 8   imposto_5%       1000 non-null   float64       \n",
      " 9   total            1000 non-null   float64       \n",
      " 10  data             1000 non-null   datetime64[ns]\n",
      " 11  hora             1000 non-null   datetime64[ns]\n",
      " 12  forma_pagamento  1000 non-null   object        \n",
      " 13  avaliacao        1000 non-null   float64       \n",
      "dtypes: datetime64[ns](2), float64(4), int64(1), object(7)\n",
      "memory usage: 109.5+ KB\n"
     ]
    }
   ],
   "source": [
    "df['hora'] = pd.to_datetime(df['hora'], format='%H:%M:%S')\n",
    "df.info()"
   ]
  },
  {
   "cell_type": "markdown",
   "id": "ce209993-80df-4040-b4cf-0a29c70f7d6a",
   "metadata": {},
   "source": [
    "<h1>Verificando a existência de duplicidade dos dados</h1>"
   ]
  },
  {
   "cell_type": "code",
   "execution_count": 15,
   "id": "f443dbfd-4ec7-45ce-b6e2-1c7d91ca16e2",
   "metadata": {},
   "outputs": [
    {
     "data": {
      "text/plain": [
       "0"
      ]
     },
     "execution_count": 15,
     "metadata": {},
     "output_type": "execute_result"
    }
   ],
   "source": [
    "df.duplicated().sum()"
   ]
  },
  {
   "cell_type": "markdown",
   "id": "26324d30-807c-4a0a-8a40-5dbe47c74460",
   "metadata": {},
   "source": [
    "<h1>Configurando o LlhamaIndex</h1>"
   ]
  },
  {
   "cell_type": "markdown",
   "id": "6fe879e5-f70c-4537-8db8-421084a86f39",
   "metadata": {},
   "source": [
    "<h6>Consulte a documentação: <a href='https://docs.llamaindex.ai/en/stable/examples/query_engine/pandas_query_engine/'>link.</a></h6>"
   ]
  },
  {
   "cell_type": "markdown",
   "id": "e6c63409-a171-4a4b-ba51-41c42e7a4269",
   "metadata": {},
   "source": [
    "<h6>Carregando as variáveis do arquivo .env</h6>"
   ]
  },
  {
   "cell_type": "code",
   "execution_count": 19,
   "id": "98c0b722-3e38-4a4e-b18f-671ec20d1d40",
   "metadata": {},
   "outputs": [
    {
     "name": "stdout",
     "output_type": "stream",
     "text": [
      "Chave API carregada com sucesso\n"
     ]
    }
   ],
   "source": [
    "load_dotenv()\n",
    "\n",
    "api_key = os.getenv(\"GROQ_API_KEY\")\n",
    "print(\"Chave API carregada com sucesso\" if api_key else \"Erro ao carregar chave API.       \")"
   ]
  },
  {
   "cell_type": "markdown",
   "id": "fe2e4dc2-230d-42d8-97da-b4d6b94e3f5c",
   "metadata": {},
   "source": [
    "<h1>Configurando a LLM</h1>"
   ]
  },
  {
   "cell_type": "markdown",
   "id": "1a374dab-37e6-4739-ab60-ce91e2d63cf5",
   "metadata": {},
   "source": [
    "<h6>Vamos defirnir tanto o modelo quanto a chave</h6>"
   ]
  },
  {
   "cell_type": "code",
   "execution_count": 22,
   "id": "04d8bede-5ad3-427c-8f18-cb49b0f0b75f",
   "metadata": {},
   "outputs": [],
   "source": [
    "Settings.llm = Groq(model='llama3-70b-8192', api_key = api_key)"
   ]
  },
  {
   "cell_type": "markdown",
   "id": "558e2020-15f7-4189-bbef-d7139c87d604",
   "metadata": {},
   "source": [
    "<h1>Transformando linguagem natural em código python + pandas</h1>"
   ]
  },
  {
   "cell_type": "markdown",
   "id": "6d8a5424-1704-408b-95d2-9a3822a477d2",
   "metadata": {},
   "source": [
    "<h6>Instanciando o QueryEngine</h6>"
   ]
  },
  {
   "cell_type": "code",
   "execution_count": 25,
   "id": "acf7419b-2629-411a-98b5-2d9c46088a0e",
   "metadata": {},
   "outputs": [],
   "source": [
    "query_engine = PandasQueryEngine(df=df, verbose=True)"
   ]
  },
  {
   "cell_type": "markdown",
   "id": "42f36caa-edd5-4116-9e07-5eaf15881524",
   "metadata": {},
   "source": [
    "<h6>Como é feito a pergunta e gerado a resposta</h6>"
   ]
  },
  {
   "cell_type": "code",
   "execution_count": 27,
   "id": "5e386d7c-d8ef-4654-b8b6-0b4a2c720a6e",
   "metadata": {},
   "outputs": [
    {
     "name": "stdout",
     "output_type": "stream",
     "text": [
      "INFO:httpx:HTTP Request: POST https://api.groq.com/openai/v1/chat/completions \"HTTP/1.1 200 OK\"\n",
      "HTTP Request: POST https://api.groq.com/openai/v1/chat/completions \"HTTP/1.1 200 OK\"\n",
      "> Pandas Instructions:\n",
      "```\n",
      "df.groupby('filial')['total'].sum().idxmax()\n",
      "```\n",
      "> Pandas Output: C\n"
     ]
    }
   ],
   "source": [
    "resposta = query_engine.query(\n",
    "    'Qual é a filial com maior faturamento?'\n",
    ")"
   ]
  },
  {
   "cell_type": "markdown",
   "id": "adf8d789-db66-4788-a895-e98b3fc5f4c4",
   "metadata": {},
   "source": [
    "<h1>Obtendo respostas com explicações</h1>"
   ]
  },
  {
   "cell_type": "code",
   "execution_count": 29,
   "id": "1efe91a6-54a9-428a-aafe-0a6ce0f64682",
   "metadata": {},
   "outputs": [],
   "source": [
    "query_engine = PandasQueryEngine(df=df, verbose=True, synthesize_response=True)"
   ]
  },
  {
   "cell_type": "code",
   "execution_count": 30,
   "id": "a60cdb52-7605-4b55-ae22-00c5ef1333fa",
   "metadata": {},
   "outputs": [
    {
     "name": "stdout",
     "output_type": "stream",
     "text": [
      "INFO:httpx:HTTP Request: POST https://api.groq.com/openai/v1/chat/completions \"HTTP/1.1 200 OK\"\n",
      "HTTP Request: POST https://api.groq.com/openai/v1/chat/completions \"HTTP/1.1 200 OK\"\n",
      "> Pandas Instructions:\n",
      "```\n",
      "df.groupby('filial')['avaliacao'].mean()\n",
      "```\n",
      "> Pandas Output: filial\n",
      "A    7.027059\n",
      "B    6.818072\n",
      "C    7.072866\n",
      "Name: avaliacao, dtype: float64\n",
      "INFO:httpx:HTTP Request: POST https://api.groq.com/openai/v1/chat/completions \"HTTP/1.1 200 OK\"\n",
      "HTTP Request: POST https://api.groq.com/openai/v1/chat/completions \"HTTP/1.1 200 OK\"\n",
      "A avaliação média de cada filial é a seguinte: a filial A tem uma avaliação média de 7.03, a filial B tem uma avaliação média de 6.82 e a filial C tem uma avaliação média de 7.07.\n"
     ]
    }
   ],
   "source": [
    "resposta = query_engine.query(\n",
    "    'Qual é a avaliacao media de cada filial?'\n",
    ")\n",
    "\n",
    "print(str(resposta))"
   ]
  },
  {
   "cell_type": "markdown",
   "id": "3c3fa738-24e5-424d-b4b9-af633cb535ff",
   "metadata": {},
   "source": [
    "<h4>Formatando Texto</h4>"
   ]
  },
  {
   "cell_type": "code",
   "execution_count": 32,
   "id": "210eaf2f-f58e-40b6-8853-ae3fbe8f50d1",
   "metadata": {},
   "outputs": [],
   "source": [
    "def formatar_texto(response):\n",
    "    texto = response.response\n",
    "    texto_formatado = textwrap.fill(texto, width=60)\n",
    "    print(texto_formatado)"
   ]
  },
  {
   "cell_type": "code",
   "execution_count": 33,
   "id": "1a7b2f1d-f4d3-492c-86d7-d04cda947a46",
   "metadata": {},
   "outputs": [
    {
     "name": "stdout",
     "output_type": "stream",
     "text": [
      "A avaliação média de cada filial é a seguinte: a filial A\n",
      "tem uma avaliação média de 7.03, a filial B tem uma\n",
      "avaliação média de 6.82 e a filial C tem uma avaliação média\n",
      "de 7.07.\n"
     ]
    }
   ],
   "source": [
    "formatar_texto(resposta)"
   ]
  },
  {
   "cell_type": "markdown",
   "id": "4ebd5893-666b-4a70-bf1c-3e2db3e07188",
   "metadata": {},
   "source": [
    "<h1>Obtendo gráficos</h1>"
   ]
  },
  {
   "cell_type": "code",
   "execution_count": 35,
   "id": "e9b93c62-ec01-48ef-9ace-e58939bb2091",
   "metadata": {},
   "outputs": [
    {
     "name": "stdout",
     "output_type": "stream",
     "text": [
      "INFO:httpx:HTTP Request: POST https://api.groq.com/openai/v1/chat/completions \"HTTP/1.1 200 OK\"\n",
      "HTTP Request: POST https://api.groq.com/openai/v1/chat/completions \"HTTP/1.1 200 OK\"\n",
      "> Pandas Instructions:\n",
      "```\n",
      "df.tipo_produto.value_counts().head(5).plot(kind='bar')\n",
      "```\n",
      "> Pandas Output: Axes(0.125,0.11;0.775x0.77)\n",
      "INFO:httpx:HTTP Request: POST https://api.groq.com/openai/v1/chat/completions \"HTTP/1.1 200 OK\"\n",
      "HTTP Request: POST https://api.groq.com/openai/v1/chat/completions \"HTTP/1.1 200 OK\"\n",
      "Based on the query results, here is a synthesized response:\n",
      "\"Here is the graph showing the top 5 best-selling products\n",
      "and their respective quantities:  [Insert graph here]  As\n",
      "shown in the graph, the top 5 products with the highest\n",
      "sales are:  1. [Product 1]: [Quantity] 2. [Product 2]:\n",
      "[Quantity] 3. [Product 3]: [Quantity] 4. [Product 4]:\n",
      "[Quantity] 5. [Product 5]: [Quantity]  Note: The exact\n",
      "product names and quantities are not provided in the output,\n",
      "but you can replace them with the actual values from your\n",
      "dataset.\"  Please note that the actual graph and product\n",
      "names/quantities would be replaced with the actual output\n",
      "from the Pandas code.\n"
     ]
    },
    {
     "data": {
      "image/png": "[encoded data removed]",
      "text/plain": [
       "<Figure size 640x480 with 1 Axes>"
      ]
     },
     "metadata": {},
     "output_type": "display_data"
    }
   ],
   "source": [
    "resposta = query_engine.query('Faça um gráfico mostrando os 5 produtos mais vendidos e suas respectivas quantidades')\n",
    "\n",
    "formatar_texto(resposta)"
   ]
  },
  {
   "cell_type": "markdown",
   "id": "e1bbe75c-f765-419f-829c-f72459979c26",
   "metadata": {},
   "source": [
    "<h1>Direcionando o idioma das respostas</h1>"
   ]
  },
  {
   "cell_type": "code",
   "execution_count": 37,
   "id": "806d1629-7bda-411a-becb-92223afd11fe",
   "metadata": {},
   "outputs": [
    {
     "name": "stdout",
     "output_type": "stream",
     "text": [
      "INFO:httpx:HTTP Request: POST https://api.groq.com/openai/v1/chat/completions \"HTTP/1.1 200 OK\"\n",
      "HTTP Request: POST https://api.groq.com/openai/v1/chat/completions \"HTTP/1.1 200 OK\"\n",
      "> Pandas Instructions:\n",
      "```\n",
      "df.tipo_produto.value_counts().nlargest(5).plot(kind='barh')\n",
      "```\n",
      "> Pandas Output: Axes(0.125,0.11;0.775x0.77)\n",
      "INFO:httpx:HTTP Request: POST https://api.groq.com/openai/v1/chat/completions \"HTTP/1.1 200 OK\"\n",
      "HTTP Request: POST https://api.groq.com/openai/v1/chat/completions \"HTTP/1.1 200 OK\"\n",
      "Aqui está o gráfico horizontal dos 5 produtos mais vendidos\n",
      "e suas respectivas quantidades:  **Gráfico:**  (O gráfico\n",
      "não pode ser exibido aqui, mas imagine um gráfico de barras\n",
      "horizontal com os 5 produtos mais vendidos no eixo y e suas\n",
      "quantidades no eixo x)  **Legenda:**  * Produto 1: XXXX\n",
      "(XXXX unidades vendidas) * Produto 2: YYYY (YYYY unidades\n",
      "vendidas) * Produto 3: ZZZZ (ZZZZ unidades vendidas) *\n",
      "Produto 4: WWWW (WWWW unidades vendidas) * Produto 5: VVVV\n",
      "(VVVV unidades vendidas)  Observação: Os nomes dos produtos\n",
      "e suas quantidades precisam ser substituídos com os valores\n",
      "reais obtidos da consulta.\n"
     ]
    },
    {
     "data": {
      "image/png": "[encoded data removed]",
      "text/plain": [
       "<Figure size 640x480 with 1 Axes>"
      ]
     },
     "metadata": {},
     "output_type": "display_data"
    }
   ],
   "source": [
    "resposta = query_engine.query('Faça um gráfico na horizontal mostrando os 5 produtos mais vendidos e suas respectivas quantidades. Responda em português BR')\n",
    "\n",
    "formatar_texto(resposta)"
   ]
  },
  {
   "cell_type": "markdown",
   "id": "4483ecc9-609d-4764-af84-e5405524d0cf",
   "metadata": {},
   "source": [
    "<h1>Definindo módulos do pipeline</h1>"
   ]
  },
  {
   "cell_type": "code",
   "execution_count": 39,
   "id": "f555f804-5ba5-4e4f-a80d-fffc33fee523",
   "metadata": {},
   "outputs": [],
   "source": [
    "def descricao_colunas(df):\n",
    "    descricao = '\\n'.join([f\"`{col}`: {str(df[col].dtype)}\" for col in df.columns])\n",
    "    return 'Aqui estão os detlahes das coluna do DataFrame:\\n'+ descricao\n",
    "\n",
    "\n",
    "#Instruções para orientar o modelo a converter uma consulta em linguagem natural em código Python executável com a biblioteca Pandas\n",
    "instruction_str = (\n",
    "    \"1. Converta a consulta para código Python executável usando Pandas.\\n\"\n",
    "    \"2. A linha final do código deve ser uma expressão Python que possa ser chamada com a função `eval()`.\\n\"\n",
    "    \"3. O código deve representar uma solução para a consulta.\\n\"\n",
    "    \"4. IMPRIMA APENAS A EXPRESSÃO.\\n\"\n",
    "    \"5. Não coloque a expressão entre aspas.\\n\")\n",
    "\n",
    "#Prompt que será enviado ao modelo para que ela gere o código Pandas desejado\n",
    "pandas_prompt_str = (\n",
    "    \"Você está trabalhando com um dataframe do pandas em Python chamado `df`.\\n\"\n",
    "    \"{colunas_detalhes}\\n\\n\"\n",
    "    \"{colunas_detalhes}\\n\\n\"\n",
    "    \"Este é o resultado de `print(df.head())`:\\n\"\n",
    "    \"{df_str}\\n\\n\"\n",
    "    \"Siga estas instruções:\\n\"\n",
    "    \"{instruction_str}\\n\"\n",
    "    \"Consulta: {query_str}\\n\\n\"\n",
    "    \"Expressão:\"\n",
    ")\n",
    "\n",
    "#Prompt para guiar o modelo a sintetizar uma resposta com base nos resultados obtidos pela consulta Pandas\n",
    "response_synthesis_prompt_str = (\n",
    "   \"Dada uma pergunta de entrada, atue como analista de df e elabore uma resposta a partir dos resultados da consulta.\\n\"\n",
    "   \"Responda de forma natural, sem introduções como 'A resposta é:' ou algo semelhante.\\n\"\n",
    "   \"Consulta: {query_str}\\n\\n\"\n",
    "   \"Instruções do Pandas (opcional):\\n{pandas_instructions}\\n\\n\"\n",
    "   \"Saída do Pandas: {pandas_output}\\n\\n\"\n",
    "   \"Resposta:\"\n",
    "   \"Ao final, exibir o código usado para gerar a resposta, no formato: O código utilizado foi {pandas_instructions}\"\n",
    ")\n",
    "\n",
    "#Módulo para obter as instruções Pandas\n",
    "pandas_prompt = PromptTemplate(pandas_prompt_str).partial_format(\n",
    "    instruction_str=instruction_str, colunas_detalhes=descricao_colunas(df), df_str=df.head(5)\n",
    ")\n",
    "#Módulo para executar as instruções Pandas\n",
    "pandas_output_parser = PandasInstructionParser(df)\n",
    "\n",
    "#Módulo para sintetizar a resposta\n",
    "response_synthesis_prompt = PromptTemplate(response_synthesis_prompt_str)\n",
    "\n",
    "#Modelo\n",
    "llm = Groq(model='llama3-70b-8192', api_key=api_key)"
   ]
  },
  {
   "cell_type": "markdown",
   "id": "19e43fdd-3461-4e98-a55a-5167b5275dcb",
   "metadata": {},
   "source": [
    "<h1>Construindo o pipeline</h1>"
   ]
  },
  {
   "cell_type": "code",
   "execution_count": 41,
   "id": "2d6b3179-6b41-4dec-8868-abcdf02fa024",
   "metadata": {},
   "outputs": [],
   "source": [
    "#Definindo Modelo\n",
    "qp = QP(\n",
    "    modules = {\n",
    "        \"input\": InputComponent(),\n",
    "        \"pandas_prompt\": pandas_prompt,\n",
    "        \"llm1\":llm,\n",
    "        \"pandas_output_parser\": pandas_output_parser,\n",
    "        \"response_synthesis_prompt\": response_synthesis_prompt,\n",
    "        \"llm2\":llm,\n",
    "    },\n",
    "    verbose=True\n",
    ")\n",
    "\n",
    "#Conectando as etapas\n",
    "qp.add_chain([\"input\", \"pandas_prompt\",\"llm1\",\"pandas_output_parser\"])\n",
    "\n",
    "#Definindo ligações\n",
    "qp.add_links([\n",
    "    Link(\"input\",\"response_synthesis_prompt\",dest_key=\"query_str\"),\n",
    "    Link(\"llm1\",\"response_synthesis_prompt\",dest_key=\"pandas_instructions\"),\n",
    "    Link(\"pandas_output_parser\",\"response_synthesis_prompt\",dest_key=\"pandas_output\")\n",
    "])\n",
    "\n",
    "#Novo link\n",
    "qp.add_link(\"response_synthesis_prompt\",\"llm2\")"
   ]
  },
  {
   "cell_type": "code",
   "execution_count": 42,
   "id": "c14a6ee5-2a5d-4954-b1ec-e3b9387d4dab",
   "metadata": {},
   "outputs": [
    {
     "name": "stdout",
     "output_type": "stream",
     "text": [
      "\u001b[1;3;38;2;155;135;227m> Running module input with input: \n",
      "query_str: Qual a média gasta por cada tipo de cliente?\n",
      "\n",
      "\u001b[0m\u001b[1;3;38;2;155;135;227m> Running module pandas_prompt with input: \n",
      "query_str: Qual a média gasta por cada tipo de cliente?\n",
      "\n",
      "\u001b[0m\u001b[1;3;38;2;155;135;227m> Running module llm1 with input: \n",
      "messages: Você está trabalhando com um dataframe do pandas em Python chamado `df`.\n",
      "Aqui estão os detlahes das coluna do DataFrame:\n",
      "`ID_compra`: object\n",
      "`filial`: object\n",
      "`cidade`: object\n",
      "`tipo_cliente`: object\n",
      "`g...\n",
      "\n",
      "\u001b[0mINFO:httpx:HTTP Request: POST https://api.groq.com/openai/v1/chat/completions \"HTTP/1.1 200 OK\"\n",
      "HTTP Request: POST https://api.groq.com/openai/v1/chat/completions \"HTTP/1.1 200 OK\"\n",
      "\u001b[1;3;38;2;155;135;227m> Running module pandas_output_parser with input: \n",
      "input: assistant: df.groupby('tipo_cliente')['total'].mean()\n",
      "\n",
      "\u001b[0m\u001b[1;3;38;2;155;135;227m> Running module response_synthesis_prompt with input: \n",
      "query_str: Qual a média gasta por cada tipo de cliente?\n",
      "pandas_instructions: assistant: df.groupby('tipo_cliente')['total'].mean()\n",
      "pandas_output: tipo_cliente\n",
      "Membro    327.791305\n",
      "Normal    318.122856\n",
      "Name: total, dtype: float64\n",
      "\n",
      "\u001b[0m\u001b[1;3;38;2;155;135;227m> Running module llm2 with input: \n",
      "messages: Dada uma pergunta de entrada, atue como analista de df e elabore uma resposta a partir dos resultados da consulta.\n",
      "Responda de forma natural, sem introduções como 'A resposta é:' ou algo semelhante.\n",
      "C...\n",
      "\n",
      "\u001b[0mINFO:httpx:HTTP Request: POST https://api.groq.com/openai/v1/chat/completions \"HTTP/1.1 200 OK\"\n",
      "HTTP Request: POST https://api.groq.com/openai/v1/chat/completions \"HTTP/1.1 200 OK\"\n"
     ]
    }
   ],
   "source": [
    "response = qp.run(query_str='Qual a média gasta por cada tipo de cliente?')"
   ]
  },
  {
   "cell_type": "code",
   "execution_count": 43,
   "id": "272e306f-9c92-4ea9-a51c-7688961c0494",
   "metadata": {},
   "outputs": [
    {
     "name": "stdout",
     "output_type": "stream",
     "text": [
      "A média gasta por cada tipo de cliente é de R$ 327,79 para os membros e R$\n",
      "318,12 para os clientes normais.  O código utilizado foi\n",
      "df.groupby('tipo_cliente')['total'].mean()\n"
     ]
    }
   ],
   "source": [
    "texto = response.message.content\n",
    "texto_formatado = textwrap.fill(texto, 80)\n",
    "print(texto_formatado)"
   ]
  },
  {
   "cell_type": "markdown",
   "id": "ef610374-db3f-43c9-887b-3b2205ddab2d",
   "metadata": {},
   "source": [
    "<h4>Criando função</h4>"
   ]
  },
  {
   "cell_type": "code",
   "execution_count": 45,
   "id": "9d4792ca-6793-42c7-ab84-4c45b5de57b0",
   "metadata": {},
   "outputs": [],
   "source": [
    "def descricao_colunas(df):\n",
    "    descricao = '\\n'.join([f\"`{col}`: {str(df[col].dtype)}\" for col in df.columns])\n",
    "    return \"Aqui estão os detalhes das colunas do dataframe:\\n\" + descricao\n",
    "\n",
    "#Definição de módulos do pipeline\n",
    "def pipeline_consulta(df):\n",
    "    instruction_str = (\n",
    "        \"1. Converta a consulta para código Python executável usando Pandas.\\n\"\n",
    "        \"2. A linha final do código deve ser uma expressão Python que possa ser chamada com a função `eval()`.\\n\"\n",
    "        \"3. O código deve representar uma solução para a consulta.\\n\"\n",
    "        \"4. IMPRIMA APENAS A EXPRESSÃO.\\n\"\n",
    "        \"5. Não coloque a expressão entre aspas.\\n\")\n",
    "\n",
    "    pandas_prompt_str = (\n",
    "        \"Você está trabalhando com um dataframe do pandas em Python chamado `df`.\\n\"\n",
    "        \"{colunas_detalhes}\\n\\n\"\n",
    "        \"Este é o resultado de `print(df.head())`:\\n\"\n",
    "        \"{df_str}\\n\\n\"\n",
    "        \"Siga estas instruções:\\n\"\n",
    "        \"{instruction_str}\\n\"\n",
    "        \"Consulta: {query_str}\\n\\n\"\n",
    "        \"Expressão:\"\n",
    ")\n",
    "\n",
    "    response_synthesis_prompt_str = (\n",
    "       \"Dada uma pergunta de entrada, atue como analista de dados e elabore uma resposta a partir dos resultados da consulta.\\n\"\n",
    "       \"Responda de forma natural, sem introduções como 'A resposta é:' ou algo semelhante.\\n\"\n",
    "       \"Consulta: {query_str}\\n\\n\"\n",
    "       \"Instruções do Pandas (opcional):\\n{pandas_instructions}\\n\\n\"\n",
    "       \"Saída do Pandas: {pandas_output}\\n\\n\"\n",
    "       \"Resposta: \\n\\n\"\n",
    "       \"Ao final, exibir o código usado em para gerar a resposta, no formato: O código utilizado foi `{pandas_instructions}`\"\n",
    "    )\n",
    "\n",
    "    pandas_prompt = PromptTemplate(pandas_prompt_str).partial_format(\n",
    "    instruction_str=instruction_str,\n",
    "    df_str=df.head(5),\n",
    "    colunas_detalhes=descricao_colunas(df)\n",
    ")\n",
    "\n",
    "    pandas_output_parser = PandasInstructionParser(df)\n",
    "    response_synthesis_prompt = PromptTemplate(response_synthesis_prompt_str)\n",
    "\n",
    "    #Criação do Query Pipeline\n",
    "    qp = QP(\n",
    "        modules={\n",
    "            \"input\": InputComponent(),\n",
    "            \"pandas_prompt\": pandas_prompt,\n",
    "            \"llm1\": llm,\n",
    "            \"pandas_output_parser\": pandas_output_parser,\n",
    "            \"response_synthesis_prompt\": response_synthesis_prompt,\n",
    "            \"llm2\": llm,\n",
    "        },\n",
    "        verbose=True,\n",
    "    )\n",
    "    qp.add_chain([\"input\", \"pandas_prompt\", \"llm1\", \"pandas_output_parser\"])\n",
    "    qp.add_links(\n",
    "        [\n",
    "            Link(\"input\", \"response_synthesis_prompt\", dest_key=\"query_str\"),\n",
    "            Link(\"llm1\", \"response_synthesis_prompt\", dest_key=\"pandas_instructions\"),\n",
    "            Link(\"pandas_output_parser\", \"response_synthesis_prompt\", dest_key=\"pandas_output\"),\n",
    "        ]\n",
    "    )\n",
    "    qp.add_link(\"response_synthesis_prompt\", \"llm2\")\n",
    "    return qp"
   ]
  },
  {
   "cell_type": "markdown",
   "id": "5eb7a708-145c-4344-97fd-68ade8833813",
   "metadata": {},
   "source": [
    "<h1>Criando Interface usando o Gradio</h1>"
   ]
  },
  {
   "cell_type": "code",
   "execution_count": null,
   "id": "574fdb9c-7aeb-4d86-8dde-56855ab6bf6e",
   "metadata": {},
   "outputs": [],
   "source": []
  },
  {
   "cell_type": "markdown",
   "id": "4bcdc692-12cb-4856-9991-2c887f62e791",
   "metadata": {},
   "source": [
    "<h4>Definindo estrutura da Aplicacao</h4>"
   ]
  },
  {
   "cell_type": "markdown",
   "id": "6a8f3487-4844-4549-86d4-7897c93de3a3",
   "metadata": {},
   "source": [
    "<h6>Criando funções auxiliares para carregamento dos dados e processamento de perguntas</h6>"
   ]
  },
  {
   "cell_type": "code",
   "execution_count": 165,
   "id": "465613ec-4376-4f84-9f20-6f9cd11e485b",
   "metadata": {},
   "outputs": [],
   "source": [
    "def carregar_dados(caminho_arquivo, df_estado):\n",
    "    if caminho_arquivo is None or caminho_arquivo == \"\":\n",
    "        return \"Por favor, faça o upload de um arquivo CSV para analisar\",pd.DataFrame(), df_estado\n",
    "    try:\n",
    "        df = pd.read_csv(caminho_arquivo)\n",
    "        return \"Arquivo carregado com sucesso!\",df.head(), df\n",
    "    except Exception as e:\n",
    "        return f\"Errro ao carregar arquivo: {str(e)}\",pd.DataFrame(), df_estado\n",
    "\n",
    "def processar_pergunta(pergunta, df_estado):\n",
    "    if df_estado is not None and pergunta:\n",
    "        qp = pipeline_consulta(df_estado)\n",
    "        resposta = qp.run(query_str=pergunta)\n",
    "        return resposta.message.content\n",
    "    return \"\" "
   ]
  },
  {
   "cell_type": "markdown",
   "id": "6e956333-7ad6-44c2-8135-22210724e8b2",
   "metadata": {},
   "source": [
    "<h6>Funções para definir um histórico de armazenamento de perguntas e respostas, além disso a geração do relatório</h6>"
   ]
  },
  {
   "cell_type": "code",
   "execution_count": 176,
   "id": "4e95b602-8fed-40c9-b539-3efcb42182a6",
   "metadata": {},
   "outputs": [],
   "source": [
    "def add_historico(pergunta, resposta, historico_estado):\n",
    "    if pergunta and resposta:\n",
    "        historico_estado.append((pergunta,resposta))\n",
    "        gr.Info(\"Adicionado ao PDF!\", duration=2)\n",
    "        return historico_estado\n",
    "\n",
    "def gerar_pdf(historico_estado):\n",
    "    if not historico_estado:\n",
    "        return \"Nenhum dado para adicionar ao PDF\", None\n",
    "\n",
    "    #Gera nome do arquivo com timestamp\n",
    "    timestamp = datetime.now().strftime(\"%Y%m%d%H%M%S\")\n",
    "    caminho_pdf = f\"relatorio_perguntas_respostas_{timestamp}.pdf\"\n",
    "\n",
    "    #Gerando o aquivo PDF\n",
    "    pdf = FPDF()\n",
    "    pdf.add_page()\n",
    "    pdf.set_auto_page_break(auto=True, margin=15)\n",
    "\n",
    "    #Configurando a fonte\n",
    "    for pergunta, resposta in historico_estado:\n",
    "        pdf.set_font(\"Arial\", 'B', 14)\n",
    "        pdf.multi_cell(0, 8, txt=pergunta)\n",
    "        pdf.ln(2)\n",
    "        pdf.set_font(\"Arial\", '', 12)\n",
    "        pdf.multi_cell(0, 8, txt=resposta)\n",
    "        pdf.ln(6)\n",
    "\n",
    "    pdf.output(caminho_pdf)\n",
    "    return caminho_pdf\n",
    "\n",
    "def limpar_pergunta_resposta():\n",
    "    return \"\",\"\" \n",
    "\n",
    "def resetar_aplicacao():\n",
    "    return None,\"A aplicação foi resetada. Por favor, faça o upload de um novo arquivo CSV.\",pd.DataFrame(),\"\" ,None, [], \"\" "
   ]
  },
  {
   "cell_type": "markdown",
   "id": "c63eac7c-f627-48db-8865-cf974b805285",
   "metadata": {},
   "source": [
    "<h6>Gradio</h6>"
   ]
  },
  {
   "cell_type": "code",
   "execution_count": null,
   "id": "1d889461-b503-472c-8035-3ca9d343f869",
   "metadata": {},
   "outputs": [
    {
     "name": "stdout",
     "output_type": "stream",
     "text": [
      "* Running on local URL:  http://127.0.0.1:7860\n",
      "INFO:httpx:HTTP Request: GET http://127.0.0.1:7860/gradio_api/startup-events \"HTTP/1.1 200 OK\"\n",
      "HTTP Request: GET http://127.0.0.1:7860/gradio_api/startup-events \"HTTP/1.1 200 OK\"\n",
      "INFO:httpx:HTTP Request: HEAD http://127.0.0.1:7860/ \"HTTP/1.1 200 OK\"\n",
      "HTTP Request: HEAD http://127.0.0.1:7860/ \"HTTP/1.1 200 OK\"\n",
      "\n",
      "To create a public link, set `share=True` in `launch()`.\n"
     ]
    },
    {
     "data": {
      "text/html": [
       "<div><iframe src=\"http://127.0.0.1:7860/\" width=\"100%\" height=\"500\" allow=\"autoplay; camera; microphone; clipboard-read; clipboard-write;\" frameborder=\"0\" allowfullscreen></iframe></div>"
      ],
      "text/plain": [
       "<IPython.core.display.HTML object>"
      ]
     },
     "metadata": {},
     "output_type": "display_data"
    },
    {
     "name": "stdout",
     "output_type": "stream",
     "text": [
      "INFO:httpx:HTTP Request: GET https://api.gradio.app/pkg-version \"HTTP/1.1 200 OK\"\n",
      "HTTP Request: GET https://api.gradio.app/pkg-version \"HTTP/1.1 200 OK\"\n"
     ]
    }
   ],
   "source": [
    "#Criação da interface\n",
    "with gr.Blocks(theme='Soft') as app:\n",
    "    #Título da app\n",
    "    gr.Markdown('# Analisando os dados🔎🎲')\n",
    "    \n",
    "    #Descrição\n",
    "    gr.Markdown('''\n",
    "    Carregue um arquivo CSV e faça perguntas sobre os dados. A cada pergunta, você poderá visualizar a resposta e, se desejar, adicionar essa interação ao PDF final, basta clicar em \"Adicionar ao histórico do PDF\". Para fazer uma nova pergunta, clique em \"Limpar pergunta e resultado\".\n",
    "    Após definir as perguntas e respostas no histórico, clique em \"Gerar PDF\". Assim, será possível baixar um PDF com o registro completo das suas interações. Se você quiser analisar um novo dataset, basta clicar em \"Quero analisar outro dataset\" ao final da página.\n",
    "    ''')\n",
    "\n",
    "    #Campo de entrada de arquivos\n",
    "    input_arquivo = gr.File(file_count='single', type='filepath', label='Upload CSV')\n",
    "\n",
    "    #Status do upload\n",
    "    upload_status = gr.Textbox(label=\"Status do upload:\")\n",
    "\n",
    "    #Tabela de dados\n",
    "    tabela_dados = gr.DataFrame()\n",
    "\n",
    "    #Campo de entrada de texto\n",
    "    input_pergunta = gr.Textbox(label='Digite sua pergunta sobre os dados')\n",
    "    # Exemplos de perguntas\n",
    "    gr.Markdown(\"\"\"\n",
    "    Exemplos de perguntas:\n",
    "    1. Qual é o número de registros no arquivo?\n",
    "    2. Quais são os tipos de dados das colunas?\n",
    "    3. Quais são as estatísticas descritivas das colunas numéricas?\n",
    "    \"\"\")\n",
    "\n",
    "    #Botão de envio posicionado após a pergunta\n",
    "    botao_submeter = gr.Button('Enviar')\n",
    "\n",
    "    #Componente de resposta\n",
    "    output_resposta = gr.Textbox(label='Resposta')\n",
    "\n",
    "    with gr.Row():\n",
    "        #Botão de limpeza\n",
    "        botao_limpeza = gr.Button(\"Limpar pergunta e resposta\")\n",
    "        \n",
    "        #Botão para adicionar a pergunta e a resposta ao histórico\n",
    "        botao_add_pdf = gr.Button(\"Adicionar ao histórico do PDF\")\n",
    "        \n",
    "        #Botão para gerar o PDF\n",
    "        botao_gerar_pdf = gr.Button(\"Gerar PDF\")\n",
    "\n",
    "    #Componente de download\n",
    "    arquivo_pdf = gr.File(label='Download do PDF')\n",
    "    \n",
    "    #Botão para resetar a aplicação\n",
    "    botao_resetar = gr.Button(\"Quero analisar outro dataset!\")\n",
    "\n",
    "    #Gerenciamento de estados\n",
    "    df_estado = gr.State(value=None)\n",
    "    historico_estado = gr.State(value=[])\n",
    "    \n",
    "    #Conectando funções aos componentes\n",
    "    input_arquivo.change(\n",
    "        fn=carregar_dados,\n",
    "        inputs=[input_arquivo, df_estado],\n",
    "        outputs=[upload_status,tabela_dados, df_estado]\n",
    "    )\n",
    "    botao_submeter.click(\n",
    "        fn=processar_pergunta,\n",
    "        inputs=[input_pergunta, df_estado],\n",
    "        outputs=output_resposta\n",
    "    )\n",
    "    botao_limpeza.click(\n",
    "        fn=limpar_pergunta_resposta,\n",
    "        inputs=[],\n",
    "        outputs=[input_pergunta,output_resposta]\n",
    "    )\n",
    "    botao_add_pdf.click(\n",
    "        fn=add_historico,\n",
    "        inputs=[input_pergunta, output_resposta, historico_estado],\n",
    "        outputs=historico_estado\n",
    "    )\n",
    "    botao_gerar_pdf.click(\n",
    "        fn=gerar_pdf,\n",
    "        inputs=[historico_estado],\n",
    "        outputs=arquivo_pdf\n",
    "    )\n",
    "    botao_resetar.click(\n",
    "        fn=resetar_aplicacao,\n",
    "        inputs=[],\n",
    "        outputs=[input_arquivo,upload_status,\n",
    "                 tabela_dados,output_resposta,\n",
    "                 arquivo_pdf,\n",
    "                 historico_estado,\n",
    "                 input_pergunta]\n",
    "    )\n",
    "    \n",
    "\n",
    "app.launch(debug=True)"
   ]
  },
  {
   "cell_type": "code",
   "execution_count": null,
   "id": "bb60719b-88ab-40d5-8803-9fa1d489bdfb",
   "metadata": {},
   "outputs": [],
   "source": []
  },
  {
   "cell_type": "code",
   "execution_count": null,
   "id": "e547d13f-1875-4408-9630-4722e0f373c6",
   "metadata": {},
   "outputs": [],
   "source": []
  },
  {
   "cell_type": "code",
   "execution_count": null,
   "id": "ac1c1910-f25b-4335-b67e-60b89cc969a0",
   "metadata": {},
   "outputs": [],
   "source": []
  },
  {
   "cell_type": "code",
   "execution_count": null,
   "id": "d1002345-1922-424d-9c0b-bf226fcaa2c1",
   "metadata": {},
   "outputs": [],
   "source": []
  },
  {
   "cell_type": "code",
   "execution_count": null,
   "id": "23382092-4fd9-4270-9a88-f169f48f4432",
   "metadata": {},
   "outputs": [],
   "source": []
  },
  {
   "cell_type": "code",
   "execution_count": null,
   "id": "c26b8a37-8271-42b8-a859-7733b4b6d4dd",
   "metadata": {},
   "outputs": [],
   "source": []
  },
  {
   "cell_type": "code",
   "execution_count": null,
   "id": "ab7aabff-8c2c-415c-b3f8-5e852266dbdb",
   "metadata": {},
   "outputs": [],
   "source": []
  },
  {
   "cell_type": "code",
   "execution_count": null,
   "id": "ce9d4871-e602-4c18-a356-7e03abbb6c54",
   "metadata": {},
   "outputs": [],
   "source": []
  },
  {
   "cell_type": "code",
   "execution_count": null,
   "id": "4c431256-aaa2-4c1f-a9a7-548d94f627e4",
   "metadata": {},
   "outputs": [],
   "source": []
  },
  {
   "cell_type": "code",
   "execution_count": null,
   "id": "a8581149-d253-441c-9399-9c529a8632bf",
   "metadata": {},
   "outputs": [],
   "source": []
  },
  {
   "cell_type": "code",
   "execution_count": null,
   "id": "c3637d8a-c02b-4682-998d-6b0fa43177ba",
   "metadata": {},
   "outputs": [],
   "source": []
  },
  {
   "cell_type": "code",
   "execution_count": null,
   "id": "fe471c79-9de2-4caf-bc17-c6e21600f0db",
   "metadata": {},
   "outputs": [],
   "source": []
  },
  {
   "cell_type": "code",
   "execution_count": null,
   "id": "19fd1e03-68ae-464b-b6ae-faf395690b43",
   "metadata": {},
   "outputs": [],
   "source": []
  },
  {
   "cell_type": "code",
   "execution_count": null,
   "id": "8f6ad156-b2d7-4306-9f27-5bb6edd0607e",
   "metadata": {},
   "outputs": [],
   "source": []
  },
  {
   "cell_type": "code",
   "execution_count": null,
   "id": "a35fe1b2-135f-45f2-8cf2-51ec442014a0",
   "metadata": {},
   "outputs": [],
   "source": []
  },
  {
   "cell_type": "code",
   "execution_count": null,
   "id": "10083c9b-5641-4774-a13b-c9398bebff06",
   "metadata": {},
   "outputs": [],
   "source": []
  },
  {
   "cell_type": "code",
   "execution_count": null,
   "id": "231ad567-c36f-489f-b0c8-a437212a4415",
   "metadata": {},
   "outputs": [],
   "source": []
  },
  {
   "cell_type": "code",
   "execution_count": null,
   "id": "9ae77619-f226-484d-b35d-b01e7c41412f",
   "metadata": {},
   "outputs": [],
   "source": []
  },
  {
   "cell_type": "code",
   "execution_count": null,
   "id": "9bdb565b-52f5-49a9-82d4-9dd3271d3cb8",
   "metadata": {},
   "outputs": [],
   "source": []
  },
  {
   "cell_type": "code",
   "execution_count": null,
   "id": "8900af6a-3522-4928-b8c9-1e0bcfd79198",
   "metadata": {},
   "outputs": [],
   "source": []
  },
  {
   "cell_type": "code",
   "execution_count": null,
   "id": "77593337-d7e9-4850-a4ac-445a6164f30a",
   "metadata": {},
   "outputs": [],
   "source": []
  },
  {
   "cell_type": "code",
   "execution_count": null,
   "id": "10214782-529f-4998-9225-c1f5f80e9879",
   "metadata": {},
   "outputs": [],
   "source": []
  },
  {
   "cell_type": "code",
   "execution_count": null,
   "id": "c23afbc1-01a8-4207-8461-9f8d62c787ff",
   "metadata": {},
   "outputs": [],
   "source": []
  },
  {
   "cell_type": "code",
   "execution_count": null,
   "id": "2a5ed887-243a-4f7b-941d-b935c76e5517",
   "metadata": {},
   "outputs": [],
   "source": []
  },
  {
   "cell_type": "code",
   "execution_count": null,
   "id": "f450162b-b432-4e7c-b3f4-740e3df7ab88",
   "metadata": {},
   "outputs": [],
   "source": []
  }
 ],
 "metadata": {
  "kernelspec": {
   "display_name": "Python 3 (ipykernel)",
   "language": "python",
   "name": "python3"
  },
  "language_info": {
   "codemirror_mode": {
    "name": "ipython",
    "version": 3
   },
   "file_extension": ".py",
   "mimetype": "text/x-python",
   "name": "python",
   "nbconvert_exporter": "python",
   "pygments_lexer": "ipython3",
   "version": "3.12.4"
  }
 },
 "nbformat": 4,
 "nbformat_minor": 5
}
